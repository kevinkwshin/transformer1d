{
 "cells": [
  {
   "cell_type": "code",
   "execution_count": null,
   "metadata": {
    "scrolled": true
   },
   "outputs": [],
   "source": [
    "!sudo apt install wget\n",
    "!wget -r -N -c -np https://physionet.org/files/challenge-2017/1.0.0/"
   ]
  },
  {
   "cell_type": "code",
   "execution_count": null,
   "metadata": {},
   "outputs": [],
   "source": [
    "import pandas as pd\n",
    "from collections import Counter\n",
    "from tqdm import tqdm\n",
    "import scipy\n",
    "import scipy.io\n",
    "import numpy as np\n",
    "import pickle\n",
    "\n",
    "def preprocess_physionet():\n",
    "    \"\"\"\n",
    "    download the raw data from https://physionet.org/content/challenge-2017/1.0.0/\n",
    "    \"\"\"\n",
    "    \n",
    "    # read label\n",
    "    label_df = pd.read_csv('physionet.org/files/challenge-2017/1.0.0/REFERENCE-v3.csv', header=None)\n",
    "    label = label_df.iloc[:,1].values\n",
    "    print(Counter(label))\n",
    "\n",
    "    # read data\n",
    "    all_data = []\n",
    "    filenames = pd.read_csv('physionet.org/files/challenge-2017/1.0.0/training/RECORDS', header=None)\n",
    "    filenames = filenames.iloc[:,0].values\n",
    "    print(filenames)\n",
    "    for filename in tqdm(filenames):\n",
    "        mat = scipy.io.loadmat('physionet.org/files/challenge-2017/1.0.0/training/{0}.mat'.format(filename))\n",
    "        mat = np.array(mat['val'])[0]\n",
    "        all_data.append(mat)\n",
    "    all_data = np.array(all_data)\n",
    "\n",
    "    res = {'data':all_data, 'label':label}\n",
    "    with open('physionet.org/files/challenge-2017/1.0.0/challenge2017.pkl', 'wb') as fout:\n",
    "        pickle.dump(res, fout)\n",
    "preprocess_physionet()"
   ]
  },
  {
   "cell_type": "code",
   "execution_count": null,
   "metadata": {},
   "outputs": [],
   "source": []
  }
 ],
 "metadata": {
  "kernelspec": {
   "display_name": "Python 3",
   "language": "python",
   "name": "python3"
  },
  "language_info": {
   "codemirror_mode": {
    "name": "ipython",
    "version": 3
   },
   "file_extension": ".py",
   "mimetype": "text/x-python",
   "name": "python",
   "nbconvert_exporter": "python",
   "pygments_lexer": "ipython3",
   "version": "3.6.8"
  }
 },
 "nbformat": 4,
 "nbformat_minor": 4
}
